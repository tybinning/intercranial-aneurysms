{
 "cells": [
  {
   "cell_type": "markdown",
   "id": "82fbcdde",
   "metadata": {},
   "source": [
    "# Data Exploration of Medical Images "
   ]
  },
  {
   "cell_type": "code",
   "execution_count": null,
   "id": "8c7fe6fb",
   "metadata": {},
   "outputs": [],
   "source": [
    "import pandas as pd"
   ]
  }
 ],
 "metadata": {
  "kernelspec": {
   "display_name": "Python 3",
   "language": "python",
   "name": "python3"
  },
  "language_info": {
   "codemirror_mode": {
    "name": "ipython",
    "version": 3
   },
   "file_extension": ".py",
   "mimetype": "text/x-python",
   "name": "python",
   "nbconvert_exporter": "python",
   "pygments_lexer": "ipython3",
   "version": "3.11.5"
  }
 },
 "nbformat": 4,
 "nbformat_minor": 5
}
